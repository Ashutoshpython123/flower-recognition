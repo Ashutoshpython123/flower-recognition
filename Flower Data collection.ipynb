{
 "cells": [
  {
   "cell_type": "markdown",
   "metadata": {},
   "source": [
    "## Flower Data collection "
   ]
  },
  {
   "cell_type": "markdown",
   "metadata": {},
   "source": [
    "### import libraries"
   ]
  },
  {
   "cell_type": "code",
   "execution_count": 2,
   "metadata": {},
   "outputs": [],
   "source": [
    "from bs4 import *\n",
    "import requests as rq\n",
    "import os\n"
   ]
  },
  {
   "cell_type": "markdown",
   "metadata": {},
   "source": [
    "### collect dataset"
   ]
  },
  {
   "cell_type": "markdown",
   "metadata": {},
   "source": [
    "#### collect rose images"
   ]
  },
  {
   "cell_type": "code",
   "execution_count": 42,
   "metadata": {},
   "outputs": [],
   "source": [
    "r2 = rq.get('https://www.gettyimages.in/photos/rose?mediatype=photography&page=7&phrase=rose&sort=mostpopular')\n",
    "soup = BeautifulSoup(r2.text, 'html.parser')\n",
    "\n",
    "links = []\n",
    "x = soup.select('img[src^=\"https://media.gettyimages.com/photos\"]')\n",
    "\n",
    "for img in x:\n",
    "    links.append(img['src'])\n",
    "\n",
    "os.mkdir('Rose')\n",
    "\n",
    "i = 0\n",
    "for index, img_link in enumerate(links):\n",
    "    if i <= 500:\n",
    "        img_data = rq.get(img_link).content\n",
    "        with open('Rose/'+str(i)+'.jpg', 'wb+') as f:\n",
    "            f.write(img_data)\n",
    "        i += 1\n",
    "    else:\n",
    "        f.close()\n",
    "        break"
   ]
  },
  {
   "cell_type": "markdown",
   "metadata": {},
   "source": [
    "#### collecting  Lotus imges"
   ]
  },
  {
   "cell_type": "code",
   "execution_count": 10,
   "metadata": {},
   "outputs": [],
   "source": [
    "r2 = rq.get('https://www.gettyimages.in/photos/lotus-flower?mediatype=photography&page=9&phrase=lotus%20flower&sort=mostpopular')\n",
    "soup = BeautifulSoup(r2.text, 'html.parser')\n",
    "\n",
    "links = []\n",
    "x = soup.select('img[src^=\"https://media.gettyimages.com/photos\"]')\n",
    "\n",
    "for img in x:\n",
    "    links.append(img['src'])\n",
    "\n",
    "os.mkdir('Lotus')\n",
    "\n",
    "i = 0\n",
    "for index, img_link in enumerate(links):\n",
    "    if i <= 500:\n",
    "        img_data = rq.get(img_link).content\n",
    "        with open('Lotus/'+str(i)+'.jpg', 'wb+') as f:\n",
    "            f.write(img_data)\n",
    "        i += 1\n",
    "    else:\n",
    "        f.close()\n",
    "        break"
   ]
  },
  {
   "cell_type": "markdown",
   "metadata": {},
   "source": [
    "#### collecting Marigold images"
   ]
  },
  {
   "cell_type": "code",
   "execution_count": 17,
   "metadata": {},
   "outputs": [],
   "source": [
    "r2 = rq.get('https://www.gettyimages.in/photos/marigold?mediatype=photography&page=7&phrase=marigold&sort=mostpopular')\n",
    "soup = BeautifulSoup(r2.text, 'html.parser')\n",
    "\n",
    "links = []\n",
    "x = soup.select('img[src^=\"https://media.gettyimages.com/photos\"]')\n",
    "\n",
    "for img in x:\n",
    "    links.append(img['src'])\n",
    "\n",
    "os.mkdir('Marigold')\n",
    "\n",
    "i = 360\n",
    "for index, img_link in enumerate(links):\n",
    "    if i <= 500:\n",
    "        img_data = rq.get(img_link).content\n",
    "        with open('Marigold/'+str(i)+'.jpg', 'wb+') as f:\n",
    "            f.write(img_data)\n",
    "        i += 1\n",
    "    else:\n",
    "        f.close()\n",
    "        break"
   ]
  },
  {
   "cell_type": "markdown",
   "metadata": {},
   "source": [
    "#### collecting Jasmine images"
   ]
  },
  {
   "cell_type": "code",
   "execution_count": 23,
   "metadata": {},
   "outputs": [],
   "source": [
    "r2 = rq.get('https://www.gettyimages.in/photos/jasmine-flower?mediatype=photography&page=6&phrase=jasmine%20flower&sort=mostpopular')\n",
    "soup = BeautifulSoup(r2.text, 'html.parser')\n",
    "\n",
    "links = []\n",
    "x = soup.select('img[src^=\"https://media.gettyimages.com/photos\"]')\n",
    "\n",
    "for img in x:\n",
    "    links.append(img['src'])\n",
    "\n",
    "os.mkdir('Jasmine')\n",
    "\n",
    "i = 0\n",
    "for index, img_link in enumerate(links):\n",
    "    if i <= 500:\n",
    "        img_data = rq.get(img_link).content\n",
    "        with open('Jasmine/'+str(i)+'.jpg', 'wb+') as f:\n",
    "            f.write(img_data)\n",
    "        i += 1\n",
    "    else:\n",
    "        f.close()\n",
    "        break"
   ]
  },
  {
   "cell_type": "code",
   "execution_count": null,
   "metadata": {},
   "outputs": [],
   "source": []
  }
 ],
 "metadata": {
  "kernelspec": {
   "display_name": "Python 3",
   "language": "python",
   "name": "python3"
  },
  "language_info": {
   "codemirror_mode": {
    "name": "ipython",
    "version": 3
   },
   "file_extension": ".py",
   "mimetype": "text/x-python",
   "name": "python",
   "nbconvert_exporter": "python",
   "pygments_lexer": "ipython3",
   "version": "3.6.6"
  }
 },
 "nbformat": 4,
 "nbformat_minor": 4
}
